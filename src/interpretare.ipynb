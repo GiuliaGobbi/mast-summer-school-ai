{
 "cells": [
  {
   "cell_type": "markdown",
   "metadata": {},
   "source": [
    "# Tecniche di interpretazione per l'apprendimento automatico"
   ]
  },
  {
   "cell_type": "markdown",
   "metadata": {},
   "source": [
    "*Abbiamo costruito una buona soluzione al problema?*\n",
    "\n",
    "*Il sistema che abbiamo creato, descrive il fenomeno che volevamo studiare?*\n",
    "\n",
    "*Quello che abbiamo fatto risponde al nostro desiderio?*\n",
    "\n",
    "Per rispondere a queste domande dobbiamo valutare il nostro processo di addestramento. È andato bene o male? Possiamo migliorare?\n",
    "\n",
    "Questo processo di valutazione ha come obiettivo definire l'efficacia del processo di apprendimento automatico.\n",
    "Possiamo distinguere due aspetti da valutare:\n",
    "1. l'accuratezza predittiva e\n",
    "2. l'accuratezza descrittiva.\n",
    "\n",
    "La prima riguarda le prestazioni del modello su esempi mai visti durante l'addestramento mentre la seconda riguarda la capacità della nostra soluzione di essere interpretabile (chiunque la \"utilizzi\").\n",
    "\n",
    "Sappiamo anche che il processo di apprendimento automatico coinvolge:\n",
    "1. la scelta della rappresentazione e\n",
    "2. la scelta del modello.\n",
    "\n",
    "Questo significa che durante la valutazione dell'efficacia potremmo dover metter in dubbio sia la rappresentazione (*abbiamo scelto una rappr. adeguata?*) che il modello (*il modello è adeguato?*).\n",
    "\n",
    "In generale, un processo di apprendimento automatico è efficace quando si comporta come ci aspettiamo (**accuratezza predittiva**) e quando è in grado di fornire una spiegazione del suo comportamento (**accuratezza descrittiva**). "
   ]
  }
 ],
 "metadata": {
  "language_info": {
   "name": "python"
  },
  "orig_nbformat": 4
 },
 "nbformat": 4,
 "nbformat_minor": 2
}
